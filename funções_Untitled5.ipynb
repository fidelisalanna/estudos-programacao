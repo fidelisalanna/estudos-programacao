{
  "nbformat": 4,
  "nbformat_minor": 0,
  "metadata": {
    "colab": {
      "provenance": [],
      "authorship_tag": "ABX9TyNRzGaBk49DZhFIyXeAkXCN",
      "include_colab_link": true
    },
    "kernelspec": {
      "name": "python3",
      "display_name": "Python 3"
    },
    "language_info": {
      "name": "python"
    }
  },
  "cells": [
    {
      "cell_type": "markdown",
      "metadata": {
        "id": "view-in-github",
        "colab_type": "text"
      },
      "source": [
        "<a href=\"https://colab.research.google.com/github/fidelisalanna/estudos-programacao/blob/main/fun%C3%A7%C3%B5es_Untitled5.ipynb\" target=\"_parent\"><img src=\"https://colab.research.google.com/assets/colab-badge.svg\" alt=\"Open In Colab\"/></a>"
      ]
    },
    {
      "cell_type": "code",
      "execution_count": null,
      "metadata": {
        "id": "l0ev3PCmFBwe"
      },
      "outputs": [],
      "source": [
        "#Declaração de função\n",
        "def my_first_function():\n",
        "  print('minha primeira função')"
      ]
    },
    {
      "cell_type": "code",
      "source": [
        "#chamando minha função \n",
        "my_first_function()"
      ],
      "metadata": {
        "colab": {
          "base_uri": "https://localhost:8080/"
        },
        "id": "jfgvBxSuH8v8",
        "outputId": "d97247e2-b7f2-4120-ad69-1d28fc7e4016"
      },
      "execution_count": null,
      "outputs": [
        {
          "output_type": "stream",
          "name": "stdout",
          "text": [
            "minha primeira função\n"
          ]
        }
      ]
    },
    {
      "cell_type": "code",
      "source": [
        "def pronomeTratam(pronome):\n",
        "  print(pronome + \" Alanna\")"
      ],
      "metadata": {
        "id": "bOUz4NupIfDK"
      },
      "execution_count": null,
      "outputs": []
    },
    {
      "cell_type": "code",
      "source": [
        "pronomeTratam('Doutora')\n",
        "pronomeTratam('Ilmo')\n",
        "pronomeTratam('Seu')"
      ],
      "metadata": {
        "colab": {
          "base_uri": "https://localhost:8080/"
        },
        "id": "OB-Xtt1II1qD",
        "outputId": "9786e101-0a0c-4c50-ce54-1ca511a24d1f"
      },
      "execution_count": null,
      "outputs": [
        {
          "output_type": "stream",
          "name": "stdout",
          "text": [
            "Doutora Alanna\n",
            "Ilmo Alanna\n",
            "Seu Alanna\n"
          ]
        }
      ]
    },
    {
      "cell_type": "code",
      "source": [
        "def tratamNome(pronome, nome):\n",
        "  print(pronome, nome)"
      ],
      "metadata": {
        "id": "ga8y66ZcJwwR"
      },
      "execution_count": null,
      "outputs": []
    },
    {
      "cell_type": "code",
      "source": [
        "#Função que recebe como parâmetros Nome e Ano de nascimento\n",
        "#calcula a idade do sujeito e retorna algo como \n",
        "#Asdrúbal tem 28 anos\n",
        "def nomeEAno(nome, ano):\n",
        "  idade = 2023 - ano\n",
        "  print(nome, idade, 'anos')"
      ],
      "metadata": {
        "id": "qq2V6ut3LNtY"
      },
      "execution_count": null,
      "outputs": []
    },
    {
      "cell_type": "code",
      "source": [
        "nomeEAno('Alanna', 2005)"
      ],
      "metadata": {
        "colab": {
          "base_uri": "https://localhost:8080/"
        },
        "id": "eBFb1f0fNAgw",
        "outputId": "079a9e02-3a4a-4312-8f27-9f11c3a0a4d5"
      },
      "execution_count": null,
      "outputs": [
        {
          "output_type": "stream",
          "name": "stdout",
          "text": [
            "Alanna 18 anos\n"
          ]
        }
      ]
    },
    {
      "cell_type": "code",
      "source": [
        "#Função que recebe Altura e Peso e retorna o IMC:\n",
        "#Fórmula IMC peso/altura**2\n",
        "def calculoIMC(altura, peso):\n",
        "  print(peso/altura**2)"
      ],
      "metadata": {
        "id": "x226z2mUN6CM"
      },
      "execution_count": null,
      "outputs": []
    },
    {
      "cell_type": "code",
      "source": [
        "calculoIMC(1.65, 83)"
      ],
      "metadata": {
        "colab": {
          "base_uri": "https://localhost:8080/"
        },
        "id": "406JqGEoQTUm",
        "outputId": "eb3e2175-b5e1-4bef-aa34-063cbded7ef6"
      },
      "execution_count": null,
      "outputs": [
        {
          "output_type": "stream",
          "name": "stdout",
          "text": [
            "30.48668503213958\n"
          ]
        }
      ]
    },
    {
      "cell_type": "code",
      "source": [
        "def calculoIMC(altura, peso):\n",
        "  return peso/altura**2"
      ],
      "metadata": {
        "id": "TGyFL-fgRBJO"
      },
      "execution_count": null,
      "outputs": []
    },
    {
      "cell_type": "code",
      "source": [
        "calculoIMC(1.65, 83) > 70"
      ],
      "metadata": {
        "colab": {
          "base_uri": "https://localhost:8080/"
        },
        "id": "rcoTuHgIRZP_",
        "outputId": "a6f04b88-0ba3-4b54-d182-7c1c50b3664a"
      },
      "execution_count": null,
      "outputs": [
        {
          "output_type": "execute_result",
          "data": {
            "text/plain": [
              "False"
            ]
          },
          "metadata": {},
          "execution_count": 23
        }
      ]
    }
  ]
}