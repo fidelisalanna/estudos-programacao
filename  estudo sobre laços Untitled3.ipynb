{
  "nbformat": 4,
  "nbformat_minor": 0,
  "metadata": {
    "colab": {
      "provenance": [],
      "authorship_tag": "ABX9TyOkoDWdnwxMnZAmUiIpNmMe",
      "include_colab_link": true
    },
    "kernelspec": {
      "name": "python3",
      "display_name": "Python 3"
    },
    "language_info": {
      "name": "python"
    }
  },
  "cells": [
    {
      "cell_type": "markdown",
      "metadata": {
        "id": "view-in-github",
        "colab_type": "text"
      },
      "source": [
        "<a href=\"https://colab.research.google.com/github/fidelisalanna/estudos-programacao/blob/main/%20estudo%20sobre%20la%C3%A7os%20Untitled3.ipynb\" target=\"_parent\"><img src=\"https://colab.research.google.com/assets/colab-badge.svg\" alt=\"Open In Colab\"/></a>"
      ]
    },
    {
      "cell_type": "code",
      "execution_count": 3,
      "metadata": {
        "colab": {
          "base_uri": "https://localhost:8080/"
        },
        "id": "fbJDf3w09v-9",
        "outputId": "0c0cade4-41d4-46d7-a80c-20705b11c998"
      },
      "outputs": [
        {
          "output_type": "stream",
          "name": "stdout",
          "text": [
            "2023\n"
          ]
        }
      ],
      "source": [
        "ano = 2023\n",
        "print(ano)"
      ]
    },
    {
      "cell_type": "code",
      "source": [
        "fruta = 'Banana'\n",
        "print(fruta)"
      ],
      "metadata": {
        "colab": {
          "base_uri": "https://localhost:8080/"
        },
        "id": "fmzrRCvMDMdc",
        "outputId": "85fb1f77-95cf-4496-f560-edd5146cd769"
      },
      "execution_count": 4,
      "outputs": [
        {
          "output_type": "stream",
          "name": "stdout",
          "text": [
            "Banana\n"
          ]
        }
      ]
    },
    {
      "cell_type": "code",
      "source": [
        "#criando uma lista\n",
        "frutas = ['morango', 'banana', 'melao', 'uva', 'acerola']"
      ],
      "metadata": {
        "id": "zYOh435IDvpB"
      },
      "execution_count": 5,
      "outputs": []
    },
    {
      "cell_type": "code",
      "source": [
        "for i in frutas:\n",
        "  print(i)"
      ],
      "metadata": {
        "colab": {
          "base_uri": "https://localhost:8080/"
        },
        "id": "7ArbdXIKE58l",
        "outputId": "e3966883-3628-4e99-e931-15005cab6f6b"
      },
      "execution_count": 6,
      "outputs": [
        {
          "output_type": "stream",
          "name": "stdout",
          "text": [
            "morango\n",
            "banana\n",
            "melao\n",
            "uva\n",
            "acerola\n"
          ]
        }
      ]
    },
    {
      "cell_type": "code",
      "source": [
        "for i in frutas:\n",
        "  if(i == 'morango'):\n",
        "    print(i)"
      ],
      "metadata": {
        "colab": {
          "base_uri": "https://localhost:8080/"
        },
        "id": "sGDROZPMF8WE",
        "outputId": "4fb25add-e694-4be9-e939-af48e095c43c"
      },
      "execution_count": 7,
      "outputs": [
        {
          "output_type": "stream",
          "name": "stdout",
          "text": [
            "morango\n"
          ]
        }
      ]
    },
    {
      "cell_type": "code",
      "source": [
        "fruta = input('insira uma fruta: ')\n",
        "#inserir valores em listas...\n",
        "frutas.append(fruta)\n",
        "frutas"
      ],
      "metadata": {
        "colab": {
          "base_uri": "https://localhost:8080/"
        },
        "id": "beBKMEDfGxlI",
        "outputId": "ab4da555-2283-4dd7-872d-4e8745c8e5ef"
      },
      "execution_count": 10,
      "outputs": [
        {
          "name": "stdout",
          "output_type": "stream",
          "text": [
            "insira uma fruta: abacaxi\n"
          ]
        },
        {
          "output_type": "execute_result",
          "data": {
            "text/plain": [
              "['morango', 'banana', 'melao', 'uva', 'acerola', [...], 'abacaxi']"
            ]
          },
          "metadata": {},
          "execution_count": 10
        }
      ]
    },
    {
      "cell_type": "code",
      "source": [
        "#lista de notas\n",
        "notas = [8, 9, 3, 4, 7, 10, 3, 6, 7]"
      ],
      "metadata": {
        "id": "Ate-b4xAIV1k"
      },
      "execution_count": 11,
      "outputs": []
    },
    {
      "cell_type": "code",
      "source": [
        "for nota in notas:\n",
        "  if(nota >= 7):\n",
        "    print(nota)"
      ],
      "metadata": {
        "colab": {
          "base_uri": "https://localhost:8080/"
        },
        "id": "RdPuOuArImkb",
        "outputId": "81beeb87-fce1-49a1-f697-2e9e26997d52"
      },
      "execution_count": 12,
      "outputs": [
        {
          "output_type": "stream",
          "name": "stdout",
          "text": [
            "8\n",
            "9\n",
            "7\n",
            "10\n",
            "7\n"
          ]
        }
      ]
    },
    {
      "cell_type": "code",
      "source": [
        "#exiba a quantidade de aprovados e reprovados\n",
        "aprovados = 0 \n",
        "reprovados = 0\n",
        "for nota in notas:\n",
        "  if(nota>=7):\n",
        "    aprovados +=1\n",
        "  else:\n",
        "    reprovados += 1 \n",
        "print('Aprovados:', aprovados)\n",
        "print('Reprovados:', reprovados)"
      ],
      "metadata": {
        "colab": {
          "base_uri": "https://localhost:8080/"
        },
        "id": "5fH7PkU6JKTJ",
        "outputId": "6bc5f7be-58fb-4d56-ed0a-4ab3ec14ef1b"
      },
      "execution_count": 14,
      "outputs": [
        {
          "output_type": "stream",
          "name": "stdout",
          "text": [
            "Aprovados: 5\n",
            "Reprovados: 4\n"
          ]
        }
      ]
    },
    {
      "cell_type": "code",
      "source": [
        "#criar um programa que liste os numeros de 1 a 10 \n",
        "#para isto, precisamos de um contador\n",
        "cont = 1\n",
        "numeros = []\n",
        "\n",
        "while (cont <= 10):\n",
        "  numeros.append(cont)\n",
        "  cont += 1 \n",
        "\n",
        "numeros"
      ],
      "metadata": {
        "colab": {
          "base_uri": "https://localhost:8080/"
        },
        "id": "NwmpL9R2Qr8V",
        "outputId": "0a7539db-65e9-4127-e34c-a3e559b852e1"
      },
      "execution_count": 16,
      "outputs": [
        {
          "output_type": "execute_result",
          "data": {
            "text/plain": [
              "[1, 2, 3, 4, 5, 6, 7, 8, 9, 10]"
            ]
          },
          "metadata": {},
          "execution_count": 16
        }
      ]
    },
    {
      "cell_type": "code",
      "source": [
        "#modifique o codigo anterior, para solicitar um tamanho de lista\n",
        "#x e com o laço while, crie a nova lista, do tamnho desejado.\n",
        "cont = 1 \n",
        "numero = []\n",
        "tamanho = int(input('Digite o tamanho da lista: '))\n",
        "\n",
        "while (cont <= tamanho):\n",
        "  numeros.append(cont)\n",
        "  cont += 1\n",
        "\n",
        "  numeros"
      ],
      "metadata": {
        "colab": {
          "base_uri": "https://localhost:8080/"
        },
        "id": "Qpxg7KO-SQNE",
        "outputId": "e8ef7893-df21-4c00-c7eb-99012dcddbdf"
      },
      "execution_count": 24,
      "outputs": [
        {
          "name": "stdout",
          "output_type": "stream",
          "text": [
            "Digite o tamanho da lista: 7\n"
          ]
        }
      ]
    },
    {
      "cell_type": "code",
      "source": [
        "#inserir nomes de cidades.\n",
        "#O laço encerra, quando digitar 0.\n",
        "cidades = []\n",
        "city = input('Digite uma cidade: ')\n",
        "\n",
        "while(city != '0'):\n",
        "  cidades.append(city)\n",
        "  city = input('Digite uma cidade: ')\n",
        "\n",
        "cidades"
      ],
      "metadata": {
        "colab": {
          "base_uri": "https://localhost:8080/"
        },
        "id": "n94Qb51CVKjX",
        "outputId": "6827fcce-4494-4096-d3ea-295e66dc321c"
      },
      "execution_count": 26,
      "outputs": [
        {
          "name": "stdout",
          "output_type": "stream",
          "text": [
            "Digite uma cidade: Joao Pessoa\n",
            "Digite uma cidade: Lucena\n",
            "Digite uma cidade: Cajazeiras\n",
            "Digite uma cidade: Patos\n",
            "Digite uma cidade: 0\n"
          ]
        },
        {
          "output_type": "execute_result",
          "data": {
            "text/plain": [
              "['Joao Pessoa', 'Lucena', 'Cajazeiras', 'Patos']"
            ]
          },
          "metadata": {},
          "execution_count": 26
        }
      ]
    },
    {
      "cell_type": "code",
      "source": [
        "#par ou impar \n",
        "num = int(input('Digite o numero: '))\n",
        "\n",
        "while(num >= 0):\n",
        "  if(num % 2 == 0):\n",
        "    print('é par')\n",
        "    num = int(input('Digite o numero: '))\n",
        "  else:\n",
        "    print('é impar')\n",
        "    num = int(input('Digite o numero: '))\n",
        "\n",
        "print('Acabou o programa, otario!')\n"
      ],
      "metadata": {
        "colab": {
          "base_uri": "https://localhost:8080/"
        },
        "id": "cbrodDEtX7HW",
        "outputId": "a4262728-8d45-424e-fb14-61ce93565e04"
      },
      "execution_count": 28,
      "outputs": [
        {
          "output_type": "stream",
          "name": "stdout",
          "text": [
            "Digite o numero: 1\n",
            "é impar\n",
            "Digite o numero: 12\n",
            "é par\n",
            "Digite o numero: 8\n",
            "é par\n",
            "Digite o numero: 7\n",
            "é impar\n",
            "Digite o numero: -2\n",
            "Acabou o programa, otario!\n"
          ]
        }
      ]
    }
  ]
}