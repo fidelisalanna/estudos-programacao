{
  "nbformat": 4,
  "nbformat_minor": 0,
  "metadata": {
    "colab": {
      "provenance": [],
      "authorship_tag": "ABX9TyOko+fiS2Rk8uRK/IU2DtKE",
      "include_colab_link": true
    },
    "kernelspec": {
      "name": "python3",
      "display_name": "Python 3"
    },
    "language_info": {
      "name": "python"
    }
  },
  "cells": [
    {
      "cell_type": "markdown",
      "metadata": {
        "id": "view-in-github",
        "colab_type": "text"
      },
      "source": [
        "<a href=\"https://colab.research.google.com/github/fidelisalanna/estudos-programacao/blob/main/fun%C3%A7oes%20Untitled0.ipynb\" target=\"_parent\"><img src=\"https://colab.research.google.com/assets/colab-badge.svg\" alt=\"Open In Colab\"/></a>"
      ]
    },
    {
      "cell_type": "code",
      "execution_count": 1,
      "metadata": {
        "id": "l9-i-9L-Dd6E"
      },
      "outputs": [],
      "source": [
        "#função calcula média\n",
        "\n",
        "def calculaMedia(x, y, z):\n",
        "  return (x+y+z)/3"
      ]
    },
    {
      "cell_type": "code",
      "source": [
        "a = float(input('nota 1: '))\n",
        "b = float(input('nota 2: '))\n",
        "c = float(input('nota 3: '))\n",
        "\n",
        "calculaMedia(a, b, c)"
      ],
      "metadata": {
        "colab": {
          "base_uri": "https://localhost:8080/"
        },
        "id": "ETEtricCJ0v5",
        "outputId": "7f96d283-e46a-4553-89b7-8d155ebdbbee"
      },
      "execution_count": 2,
      "outputs": [
        {
          "name": "stdout",
          "output_type": "stream",
          "text": [
            "nota 1: 9\n",
            "nota 2: 8\n",
            "nota 3: 10\n"
          ]
        },
        {
          "output_type": "execute_result",
          "data": {
            "text/plain": [
              "9.0"
            ]
          },
          "metadata": {},
          "execution_count": 2
        }
      ]
    },
    {
      "cell_type": "code",
      "source": [
        "def mediaTotal(*notas):\n",
        "  soma = 0\n",
        "  for nota in notas:\n",
        "    soma += nota\n",
        "  media = soma/len(notas)\n",
        "  print('A media é: ', media)"
      ],
      "metadata": {
        "id": "Vjf_U3tPMpkA"
      },
      "execution_count": 3,
      "outputs": []
    },
    {
      "cell_type": "code",
      "source": [
        "mediaTotal(4,8,3,7,6,9,5,2)"
      ],
      "metadata": {
        "colab": {
          "base_uri": "https://localhost:8080/"
        },
        "id": "GI7Ov_ogNy6o",
        "outputId": "5ea6140e-b63b-4831-bf3d-d9ca984ea3e2"
      },
      "execution_count": 7,
      "outputs": [
        {
          "output_type": "stream",
          "name": "stdout",
          "text": [
            "A media é:  5.5\n"
          ]
        }
      ]
    },
    {
      "cell_type": "code",
      "source": [
        "#Recebe varios numeros e retorna o maior\n",
        "def retornaMaior(*numeros):\n",
        "  maior = 0\n",
        "  for n in numeros:\n",
        "    if(n >= maior):\n",
        "      maior = n \n",
        "  return maior\n"
      ],
      "metadata": {
        "id": "Gio7jIMzPXn6"
      },
      "execution_count": 24,
      "outputs": []
    },
    {
      "cell_type": "code",
      "source": [
        "retornaMaior(2, 5, 17, 3, 23, 5, 90)"
      ],
      "metadata": {
        "colab": {
          "base_uri": "https://localhost:8080/"
        },
        "id": "anPpmsyZbzBh",
        "outputId": "8dec4d17-f2b1-4125-8293-ce856d95ba94"
      },
      "execution_count": 26,
      "outputs": [
        {
          "output_type": "execute_result",
          "data": {
            "text/plain": [
              "90"
            ]
          },
          "metadata": {},
          "execution_count": 26
        }
      ]
    },
    {
      "cell_type": "code",
      "source": [
        "def returnMaior(numeros):\n",
        "  return max(numeros)"
      ],
      "metadata": {
        "id": "YYtOiZU8csUL"
      },
      "execution_count": 27,
      "outputs": []
    },
    {
      "cell_type": "code",
      "source": [
        "notas = [8, 9, 4, 5, 6, 8, 3, 10]\n",
        "\n",
        "returnMaior(notas)"
      ],
      "metadata": {
        "colab": {
          "base_uri": "https://localhost:8080/"
        },
        "id": "rnw3cg_Hc7wZ",
        "outputId": "c665ede5-e1b9-444f-a7d1-fa66bb383579"
      },
      "execution_count": 28,
      "outputs": [
        {
          "output_type": "execute_result",
          "data": {
            "text/plain": [
              "10"
            ]
          },
          "metadata": {},
          "execution_count": 28
        }
      ]
    },
    {
      "cell_type": "code",
      "source": [
        "#Valor padrão\n",
        "def nacionalidade(country = 'cuba'):\n",
        "  print('Eu nasci em: '+ country)"
      ],
      "metadata": {
        "id": "G1WpRv9UeZFp"
      },
      "execution_count": 29,
      "outputs": []
    },
    {
      "cell_type": "code",
      "source": [
        "nacionalidade('Brasil')\n",
        "nacionalidade('França')\n",
        "nacionalidade('Argentina')\n",
        "nacionalidade('Alemanha')"
      ],
      "metadata": {
        "colab": {
          "base_uri": "https://localhost:8080/"
        },
        "id": "9sQ_CrpcfJjB",
        "outputId": "7666bafb-57ad-444b-e100-5c990e909b41"
      },
      "execution_count": 30,
      "outputs": [
        {
          "output_type": "stream",
          "name": "stdout",
          "text": [
            "Eu nasci em: Brasil\n",
            "Eu nasci em: França\n",
            "Eu nasci em: Argentina\n",
            "Eu nasci em: Alemanha\n"
          ]
        }
      ]
    },
    {
      "cell_type": "code",
      "source": [],
      "metadata": {
        "id": "VeggfRcBfwYX"
      },
      "execution_count": null,
      "outputs": []
    }
  ]
}