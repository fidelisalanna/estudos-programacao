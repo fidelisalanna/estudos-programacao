{
  "nbformat": 4,
  "nbformat_minor": 0,
  "metadata": {
    "colab": {
      "provenance": [],
      "authorship_tag": "ABX9TyNc9akxnYZ0lx/HeWUzpJqu",
      "include_colab_link": true
    },
    "kernelspec": {
      "name": "python3",
      "display_name": "Python 3"
    },
    "language_info": {
      "name": "python"
    }
  },
  "cells": [
    {
      "cell_type": "markdown",
      "metadata": {
        "id": "view-in-github",
        "colab_type": "text"
      },
      "source": [
        "<a href=\"https://colab.research.google.com/github/fidelisalanna/estudos-programacao/blob/main/aula%20de%20funcao%20tupla%20Untitled6.ipynb\" target=\"_parent\"><img src=\"https://colab.research.google.com/assets/colab-badge.svg\" alt=\"Open In Colab\"/></a>"
      ]
    },
    {
      "cell_type": "code",
      "execution_count": 1,
      "metadata": {
        "colab": {
          "base_uri": "https://localhost:8080/"
        },
        "id": "bgGTkax6UHeF",
        "outputId": "1c75b88e-fbda-4f5d-8939-b2d2b9989e33"
      },
      "outputs": [
        {
          "output_type": "execute_result",
          "data": {
            "text/plain": [
              "('maçã', 'banana', 'laranja', 'goiaba')"
            ]
          },
          "metadata": {},
          "execution_count": 1
        }
      ],
      "source": [
        "tp_frutas = ('maçã', 'banana', 'laranja', 'goiaba')\n",
        "tp_frutas"
      ]
    },
    {
      "cell_type": "code",
      "source": [
        "lst_frutas = list(tp_frutas)\n",
        "type(lst_frutas)\n",
        "lst_frutas"
      ],
      "metadata": {
        "colab": {
          "base_uri": "https://localhost:8080/"
        },
        "id": "w_EMNubzXNIR",
        "outputId": "f0777c80-c7f2-43df-aa83-bb10975cac1e"
      },
      "execution_count": 5,
      "outputs": [
        {
          "output_type": "execute_result",
          "data": {
            "text/plain": [
              "['maçã', 'banana', 'laranja', 'goiaba']"
            ]
          },
          "metadata": {},
          "execution_count": 5
        }
      ]
    },
    {
      "cell_type": "code",
      "source": [
        "#fatiamente (Slicing)\n",
        "tp_meses = ('jan', 'fev', 'mar', 'abr', 'mai', 'jun', 'jul', 'agost', 'setemp', 'out', 'novem', 'dezem')\n",
        "#com os meses do segundo trimestre (abril - jun)\n",
        "tp_meses[3:6]"
      ],
      "metadata": {
        "colab": {
          "base_uri": "https://localhost:8080/"
        },
        "id": "5RcgwTP4ZNXw",
        "outputId": "8c4b3d25-c807-44ea-951d-96327209c911"
      },
      "execution_count": 7,
      "outputs": [
        {
          "output_type": "execute_result",
          "data": {
            "text/plain": [
              "('abr', 'mai', 'jun')"
            ]
          },
          "metadata": {},
          "execution_count": 7
        }
      ]
    },
    {
      "cell_type": "code",
      "source": [
        "#ordenação de dados *sort(value, key = x)\n",
        "#ordenar os estados pelo DDD e não pelo nome\n",
        "uf_cod = [('PE', 81), ('RJ', 21), ('SP', 11), ('PB', 83)]\n",
        "\n",
        "sorted(uf_cod, key = lambda x : x[1])"
      ],
      "metadata": {
        "colab": {
          "base_uri": "https://localhost:8080/"
        },
        "id": "VSAdXc80a3GB",
        "outputId": "99122f02-481e-4db7-aef7-9bd37ce0af8b"
      },
      "execution_count": 9,
      "outputs": [
        {
          "output_type": "execute_result",
          "data": {
            "text/plain": [
              "[('SP', 11), ('RJ', 21), ('PE', 81), ('PB', 83)]"
            ]
          },
          "metadata": {},
          "execution_count": 9
        }
      ]
    },
    {
      "cell_type": "code",
      "source": [
        "nome_nasc = [('alanna', 2004), ('ildezia', 1969 ), ('ana clara', 2005)]\n",
        "\n",
        "sorted(nome_nasc, key = lambda x : x[0])"
      ],
      "metadata": {
        "colab": {
          "base_uri": "https://localhost:8080/"
        },
        "id": "wKbvfBMaeVn3",
        "outputId": "ec678c45-2c51-4ee6-b568-5efb75db6c4e"
      },
      "execution_count": 11,
      "outputs": [
        {
          "output_type": "execute_result",
          "data": {
            "text/plain": [
              "[('alanna', 2004), ('ana clara', 2005), ('ildezia', 1969)]"
            ]
          },
          "metadata": {},
          "execution_count": 11
        }
      ]
    },
    {
      "cell_type": "code",
      "source": [
        "#Desempacotamento de valores.\n",
        "def nome_idade_uf():\n",
        "  nome = \"Alanna Fidelis\"\n",
        "  idade = 18\n",
        "  uf = 'PB'\n",
        "  return nome, idade, uf\n",
        "\n",
        "name, age, uf = nome_idade_uf()\n",
        "\n",
        "print(name, age, uf)"
      ],
      "metadata": {
        "colab": {
          "base_uri": "https://localhost:8080/"
        },
        "id": "2bpbvaOukhPP",
        "outputId": "7f53ba65-22c1-4527-ade2-fb858085844a"
      },
      "execution_count": 17,
      "outputs": [
        {
          "output_type": "stream",
          "name": "stdout",
          "text": [
            "Alanna Fidelis 18 PB\n"
          ]
        }
      ]
    },
    {
      "cell_type": "code",
      "source": [
        "alunos = ('alanna', 'ana clara', 'fidelis', 'toretto', 'vin diesel')\n",
        "notas = (5.5, 8, 9, 7.5, 6.5)\n",
        "\n",
        "Av1 = tuple(zip(alunos, notas))\n",
        "Av1"
      ],
      "metadata": {
        "colab": {
          "base_uri": "https://localhost:8080/"
        },
        "id": "qC1x3ALpnVT_",
        "outputId": "afa5ffa4-3045-4dc8-974c-b66e0f9cb36f"
      },
      "execution_count": 21,
      "outputs": [
        {
          "output_type": "execute_result",
          "data": {
            "text/plain": [
              "(('alanna', 5.5),\n",
              " ('ana clara', 8),\n",
              " ('fidelis', 9),\n",
              " ('toretto', 7.5),\n",
              " ('vin diesel', 6.5))"
            ]
          },
          "metadata": {},
          "execution_count": 21
        }
      ]
    },
    {
      "cell_type": "code",
      "source": [
        "#escreva uma funcao que receba duas tuplas como entrada e retorne uma unica tupla que seja a concatenação das duas \n",
        "def concatenaTupla (tp1, tp2):\n",
        "  return tp1 + tp2\n",
        "\n",
        "a = (2, 4, 5)\n",
        "b = (6, 8, 12)\n",
        "concatenaTupla(a, b)"
      ],
      "metadata": {
        "colab": {
          "base_uri": "https://localhost:8080/"
        },
        "id": "RiDbNTCSqd67",
        "outputId": "26662b43-bc80-435a-bb63-de068497aeea"
      },
      "execution_count": 22,
      "outputs": [
        {
          "output_type": "execute_result",
          "data": {
            "text/plain": [
              "(2, 4, 5, 6, 8, 12)"
            ]
          },
          "metadata": {},
          "execution_count": 22
        }
      ]
    },
    {
      "cell_type": "code",
      "source": [
        "def formatada(tupla):\n",
        "  nome, logradouro, num, bairro = tupla\n",
        "  return f'nome:{nome}, residente a {logradouro}, {num}, {bairro}.'\n",
        "\n",
        "dadosCliente = ('Alanna', 'Av.Alcides Bezerra', '825', 'cruz das armas')\n",
        "\n",
        "print (formatada(dadosCliente))"
      ],
      "metadata": {
        "colab": {
          "base_uri": "https://localhost:8080/"
        },
        "id": "uNofjhLRvWMC",
        "outputId": "e81f2a12-b7b4-49d3-85fd-c0de11e94516"
      },
      "execution_count": 27,
      "outputs": [
        {
          "output_type": "stream",
          "name": "stdout",
          "text": [
            "nome:Alanna, residente a Av.Alcides Bezerra, 825, cruz das armas.\n"
          ]
        }
      ]
    }
  ]
}