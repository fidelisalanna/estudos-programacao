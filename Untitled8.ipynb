{
  "nbformat": 4,
  "nbformat_minor": 0,
  "metadata": {
    "colab": {
      "provenance": [],
      "authorship_tag": "ABX9TyPOcMq6MzQtQpJjzr8KC4gj",
      "include_colab_link": true
    },
    "kernelspec": {
      "name": "python3",
      "display_name": "Python 3"
    },
    "language_info": {
      "name": "python"
    }
  },
  "cells": [
    {
      "cell_type": "markdown",
      "metadata": {
        "id": "view-in-github",
        "colab_type": "text"
      },
      "source": [
        "<a href=\"https://colab.research.google.com/github/fidelisalanna/estudos-programacao/blob/main/Untitled8.ipynb\" target=\"_parent\"><img src=\"https://colab.research.google.com/assets/colab-badge.svg\" alt=\"Open In Colab\"/></a>"
      ]
    },
    {
      "cell_type": "code",
      "execution_count": 9,
      "metadata": {
        "id": "K8ex6HhuhG3I"
      },
      "outputs": [],
      "source": [
        "class Pessoa:\n",
        " def __init__(self, name):\n",
        "    self.name = name"
      ]
    },
    {
      "cell_type": "code",
      "source": [
        "aluno = pessoa('alanna')\n",
        "aluno.name"
      ],
      "metadata": {
        "id": "9J0hgLtEhm0g"
      },
      "execution_count": null,
      "outputs": []
    },
    {
      "cell_type": "code",
      "source": [
        "#criar uma classe funcionario\n",
        "\n",
        "class Funcionario:\n",
        "  def __init__(self, nome, cargo, matricula):\n",
        "   self.nome = nome\n",
        "   self.cargo = cargo\n",
        "   self.matricula = matricula"
      ],
      "metadata": {
        "id": "CE6iZfK_iCSe"
      },
      "execution_count": 11,
      "outputs": []
    },
    {
      "cell_type": "code",
      "source": [
        "vend = Funcionario('juarez', 'Comprador', 36524)\n",
        "print(f'{vend.nome}, cargo: {vend.cargo}, mat: {vend.matricula}')"
      ],
      "metadata": {
        "colab": {
          "base_uri": "https://localhost:8080/"
        },
        "id": "lWxSWARkkBR4",
        "outputId": "815df6ce-6b50-4df1-9994-71b21d0f9d52"
      },
      "execution_count": 12,
      "outputs": [
        {
          "output_type": "stream",
          "name": "stdout",
          "text": [
            "juarez, cargo: Comprador, mat: 36524\n"
          ]
        }
      ]
    },
    {
      "cell_type": "code",
      "source": [
        "#criar uma classe Cliente contendo os atributos\n",
        "#nome, idade,sexo\n",
        "\n",
        "class Cliente:\n",
        " def __init__(self, nome, idade, sexo):\n",
        "  self.nome = nome\n",
        "  self.idade = idade \n",
        "  self.sexo = sexo\n",
        " def detalhe(self):\n",
        "  print(f'{self.nome}, {self.idade}, {self.sexo}')"
      ],
      "metadata": {
        "id": "8w1rvskwl78O"
      },
      "execution_count": 17,
      "outputs": []
    },
    {
      "cell_type": "code",
      "source": [
        "cli = Cliente('André', 24, 'Masculino')\n",
        "cli.detalhe()"
      ],
      "metadata": {
        "colab": {
          "base_uri": "https://localhost:8080/"
        },
        "id": "7wz_qXOLmzg_",
        "outputId": "70a5de6e-a004-486a-be90-a6982029f60f"
      },
      "execution_count": 19,
      "outputs": [
        {
          "output_type": "stream",
          "name": "stdout",
          "text": [
            "André, 24, Masculino\n"
          ]
        }
      ]
    },
    {
      "cell_type": "code",
      "source": [
        "#crie uma classe conta com os atributos\n",
        "#titular, saldo\n",
        "#Função chamada exibeSaldo\n",
        "\n",
        "class Conta:\n",
        "  def __init__(self, titular, saldo):\n",
        "    self.titular = titular\n",
        "    self.saldo = saldo\n",
        "  def exibeSaldo(self):\n",
        "    print(f'titular:{self.titular}, possui o saldo de:${self.saldo}')"
      ],
      "metadata": {
        "id": "iMXpKq-ZouF2"
      },
      "execution_count": 36,
      "outputs": []
    },
    {
      "cell_type": "code",
      "source": [
        "co = Conta('Ana Clara', 100  )\n",
        "co.exibeSaldo()"
      ],
      "metadata": {
        "colab": {
          "base_uri": "https://localhost:8080/"
        },
        "id": "fWDbJLKYqXbS",
        "outputId": "15863d70-d3d0-403d-a3b8-11b771ef59de"
      },
      "execution_count": 37,
      "outputs": [
        {
          "output_type": "stream",
          "name": "stdout",
          "text": [
            "titular:Ana Clara, possui o saldo de:$100\n"
          ]
        }
      ]
    },
    {
      "cell_type": "code",
      "source": [
        "class Animal:\n",
        "  def __init__(self, name):\n",
        "     self.name = name\n",
        "  def emitirSom(self):\n",
        "    pass\n",
        "\n",
        "class Ovelha(Animal):\n",
        "  def emitirSom(self):\n",
        "    print('béeeee')\n",
        "\n",
        "class Cachorro(Animal):\n",
        "  def emitirSom(self):\n",
        "    print('au au au')\n",
        "\n",
        "class Gato(Animal):\n",
        "  def emitirSom(self):\n",
        "    print('miau')\n",
        "\n",
        "\n"
      ],
      "metadata": {
        "id": "EL2IjyJktUoh"
      },
      "execution_count": 41,
      "outputs": []
    },
    {
      "cell_type": "code",
      "source": [
        "ovelhinha = Ovelha('Alanna')\n",
        "caozinho = Cachorro('Doug')\n",
        "\n",
        "ovelhinha.emitirSom()\n",
        "caozinho.emitirSom()"
      ],
      "metadata": {
        "colab": {
          "base_uri": "https://localhost:8080/"
        },
        "id": "y62vfXqquQCo",
        "outputId": "fd2335ee-d558-450e-eee2-563082af32d7"
      },
      "execution_count": 42,
      "outputs": [
        {
          "output_type": "stream",
          "name": "stdout",
          "text": [
            "béeeee\n",
            "au au au\n"
          ]
        }
      ]
    }
  ]
}