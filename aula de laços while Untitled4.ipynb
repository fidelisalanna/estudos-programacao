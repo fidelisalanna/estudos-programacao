{
  "nbformat": 4,
  "nbformat_minor": 0,
  "metadata": {
    "colab": {
      "provenance": [],
      "authorship_tag": "ABX9TyPyJfUmswHT5BBFESJVzO27",
      "include_colab_link": true
    },
    "kernelspec": {
      "name": "python3",
      "display_name": "Python 3"
    },
    "language_info": {
      "name": "python"
    }
  },
  "cells": [
    {
      "cell_type": "markdown",
      "metadata": {
        "id": "view-in-github",
        "colab_type": "text"
      },
      "source": [
        "<a href=\"https://colab.research.google.com/github/fidelisalanna/estudos-programacao/blob/main/aula%20de%20la%C3%A7os%20while%20Untitled4.ipynb\" target=\"_parent\"><img src=\"https://colab.research.google.com/assets/colab-badge.svg\" alt=\"Open In Colab\"/></a>"
      ]
    },
    {
      "cell_type": "code",
      "execution_count": 7,
      "metadata": {
        "colab": {
          "base_uri": "https://localhost:8080/"
        },
        "id": "pe0EIeW9Dtiy",
        "outputId": "8d45746d-e1eb-48a4-ef18-958691f63eac"
      },
      "outputs": [
        {
          "output_type": "stream",
          "name": "stdout",
          "text": [
            "digite um numero maior que 1: 5\n",
            "0\n",
            "1\n",
            "2\n",
            "3\n",
            "4\n",
            "5\n"
          ]
        }
      ],
      "source": [
        "#Pede ao usuario para inserir um menuro inteiro maior do que 1\n",
        "num = int(input('digite um numero maior que 1: '))\n",
        "cont=0\n",
        "while(cont <= num):\n",
        "  print(cont)\n",
        "  cont+=1"
      ]
    },
    {
      "cell_type": "code",
      "source": [
        "#exiba a soma dos numeros de 1 a 30\n",
        "num = int(input('digite a soma dos numeros de 1 a 30: '))\n",
        "cont=0\n",
        "listNumerica = []\n",
        "while(cont <= num):\n",
        "  listNumerica.append(cont)\n",
        "  cont +=1\n",
        "print(sum(listNumerica))\n",
        "  \n"
      ],
      "metadata": {
        "colab": {
          "base_uri": "https://localhost:8080/"
        },
        "id": "ODtJSrPUKpHH",
        "outputId": "a900df2f-aad3-4591-a757-cd13691e1189"
      },
      "execution_count": 10,
      "outputs": [
        {
          "output_type": "stream",
          "name": "stdout",
          "text": [
            "digite a soma dos numeros de 1 a 30: 5\n",
            "15\n"
          ]
        }
      ]
    },
    {
      "cell_type": "code",
      "source": [
        "#Pede a senha do usuario. e dá 5 chances para o usuario inserir a senha\n",
        "senha = 'fidelis123'\n",
        "userPass = input('digite sua senha: ')\n",
        "cont = 0\n",
        "while(cont < 5):\n",
        " if(userPass == senha):\n",
        "   break\n",
        "else:\n",
        "   print('senha errada')\n",
        "   userPass = input('tente novamente')\n",
        "if(cont == 5):\n",
        "  print('Sua senha foi bloqueada,otario!')\n",
        "else:\n",
        "  print('Seja bem vinda ao meu sistema')\n"
      ],
      "metadata": {
        "colab": {
          "base_uri": "https://localhost:8080/"
        },
        "id": "UeTEK-htOWav",
        "outputId": "4b513779-e40e-4372-aed4-9c8acb4fd2f5"
      },
      "execution_count": 32,
      "outputs": [
        {
          "output_type": "stream",
          "name": "stdout",
          "text": [
            "digite sua senha: fidelis123\n",
            "Seja bem vinda ao meu sistema\n"
          ]
        }
      ]
    },
    {
      "cell_type": "code",
      "source": [
        "#solicitar que o usuario digite o nome.caso ele digite um numero.\"entrada\"\n",
        "nome = input('digite o nome!')\n",
        "if(nome.isdigit()):\n",
        "  print('entrada incorreta!')\n",
        "else:\n",
        "  print(f'o nome {nome} foi inserido com sucesso')"
      ],
      "metadata": {
        "colab": {
          "base_uri": "https://localhost:8080/"
        },
        "id": "JZVzxg1FYqCh",
        "outputId": "fc1af181-10ca-4fab-f12f-69ef9504d0bb"
      },
      "execution_count": 34,
      "outputs": [
        {
          "output_type": "stream",
          "name": "stdout",
          "text": [
            "digite o nome!alanna\n",
            "o nome alanna foi inserido com sucesso\n"
          ]
        }
      ]
    }
  ]
}