{
  "nbformat": 4,
  "nbformat_minor": 0,
  "metadata": {
    "colab": {
      "provenance": [],
      "authorship_tag": "ABX9TyMcKB5Hkdy/IEDPQaOZ8Pjd",
      "include_colab_link": true
    },
    "kernelspec": {
      "name": "python3",
      "display_name": "Python 3"
    },
    "language_info": {
      "name": "python"
    }
  },
  "cells": [
    {
      "cell_type": "markdown",
      "metadata": {
        "id": "view-in-github",
        "colab_type": "text"
      },
      "source": [
        "<a href=\"https://colab.research.google.com/github/fidelisalanna/estudos-programacao/blob/main/fun%C3%A7oes%20Untitled1.ipynb\" target=\"_parent\"><img src=\"https://colab.research.google.com/assets/colab-badge.svg\" alt=\"Open In Colab\"/></a>"
      ]
    },
    {
      "cell_type": "code",
      "execution_count": 5,
      "metadata": {
        "id": "Fd5OLwlhJhZp"
      },
      "outputs": [],
      "source": [
        "#1 - Escreva uma função que recebe uma lista de strings e retorna:\n",
        "  ## apenas as palavras que começam com a letra A\n",
        "  ## a quantidade de palavras encont\n"
      ]
    },
    {
      "cell_type": "code",
      "source": [
        "def listaletrA(palavras):\n",
        "  wordA = []\n",
        "  for i in palavras:\n",
        "    if i[0] == 'a':\n",
        "      wordA.append(i)\n",
        "  print(len(wordA))\n",
        "  return wordA"
      ],
      "metadata": {
        "id": "enR1AP6AQQO9"
      },
      "execution_count": 30,
      "outputs": []
    },
    {
      "cell_type": "code",
      "source": [
        "nomes = ['antonio', 'fidelis', 'vieira', 'ana clara', 'alanna']\n"
      ],
      "metadata": {
        "id": "zoxyDXJ1WLvS"
      },
      "execution_count": 34,
      "outputs": []
    },
    {
      "cell_type": "code",
      "source": [
        "#2 - Escreva uma funçao que receba uma lista de numeros e retorne o produto desses numeros.\n",
        "def produto(numeros):\n",
        "    resultado = 1\n",
        "    for n in numeros:\n",
        "     resultado *= n\n",
        "    return resultado\n",
        "\n",
        "numerozinhos = [2, 3, 4, 5, 6]\n",
        "produto(numerozinhos) \n"
      ],
      "metadata": {
        "colab": {
          "base_uri": "https://localhost:8080/"
        },
        "id": "nt5a4CvtUVWY",
        "outputId": "943fcf0f-9080-4ac8-f600-151d2f819b33"
      },
      "execution_count": 40,
      "outputs": [
        {
          "output_type": "execute_result",
          "data": {
            "text/plain": [
              "720"
            ]
          },
          "metadata": {},
          "execution_count": 40
        }
      ]
    },
    {
      "cell_type": "code",
      "source": [
        "#3 - Escreva uma funçao que receba uma lista de numeros e retorne a soma dos numero\n",
        "def somatorio(numeros):\n",
        "    soma = 0\n",
        "    for n in numeros:\n",
        "     if n % 2 == 0:\n",
        "      soma += n\n",
        "    return soma\n"
      ],
      "metadata": {
        "id": "DtSEVvDnc79D"
      },
      "execution_count": 41,
      "outputs": []
    },
    {
      "cell_type": "code",
      "source": [
        "somatorio(numerozinhos)"
      ],
      "metadata": {
        "colab": {
          "base_uri": "https://localhost:8080/"
        },
        "id": "HZiS82wziY4C",
        "outputId": "172a396a-e8f9-4d03-cedd-994e6a324ca3"
      },
      "execution_count": 42,
      "outputs": [
        {
          "output_type": "execute_result",
          "data": {
            "text/plain": [
              "12"
            ]
          },
          "metadata": {},
          "execution_count": 42
        }
      ]
    },
    {
      "cell_type": "code",
      "source": [
        "#4\n",
        "users = ['zeca', 'anastacio', 'josefina', 'ivo', 'amaralin']\n",
        "\n",
        "def maiorString(users):\n",
        " maior = ''\n",
        " for u in users:\n",
        "   if(len(u) >= len(maior)):\n",
        "    maior = u\n",
        " return maior\n",
        "\n",
        "maiorString(users)"
      ],
      "metadata": {
        "colab": {
          "base_uri": "https://localhost:8080/",
          "height": 35
        },
        "id": "RD_bzyjojxDB",
        "outputId": "2264195c-0dcc-4593-ea79-6486782f9af3"
      },
      "execution_count": 48,
      "outputs": [
        {
          "output_type": "execute_result",
          "data": {
            "text/plain": [
              "'anastacio'"
            ],
            "application/vnd.google.colaboratory.intrinsic+json": {
              "type": "string"
            }
          },
          "metadata": {},
          "execution_count": 48
        }
      ]
    }
  ]
}