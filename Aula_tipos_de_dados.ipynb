{
  "nbformat": 4,
  "nbformat_minor": 0,
  "metadata": {
    "colab": {
      "provenance": [],
      "authorship_tag": "ABX9TyNmCdiM5bY8pClRuNFj8yzW",
      "include_colab_link": true
    },
    "kernelspec": {
      "name": "python3",
      "display_name": "Python 3"
    },
    "language_info": {
      "name": "python"
    }
  },
  "cells": [
    {
      "cell_type": "markdown",
      "metadata": {
        "id": "view-in-github",
        "colab_type": "text"
      },
      "source": [
        "<a href=\"https://colab.research.google.com/github/fidelisalanna/estudos-programacao/blob/main/Aula_tipos_de_dados.ipynb\" target=\"_parent\"><img src=\"https://colab.research.google.com/assets/colab-badge.svg\" alt=\"Open In Colab\"/></a>"
      ]
    },
    {
      "cell_type": "code",
      "execution_count": 3,
      "metadata": {
        "colab": {
          "base_uri": "https://localhost:8080/"
        },
        "id": "arrCdZDKBrO0",
        "outputId": "3eb44fd8-883c-484e-866e-761c7fe152bc"
      },
      "outputs": [
        {
          "output_type": "stream",
          "name": "stdout",
          "text": [
            "Meu primeiro notebook\n"
          ]
        }
      ],
      "source": [
        "print(\"Meu primeiro notebook\")"
      ]
    },
    {
      "cell_type": "code",
      "source": [
        " nome =  'Alanna Fidelis'\n",
        " print (nome)"
      ],
      "metadata": {
        "colab": {
          "base_uri": "https://localhost:8080/"
        },
        "id": "8rw-OIBRCrXp",
        "outputId": "590d6e15-a0a0-4585-b9bc-6065f370f5ce"
      },
      "execution_count": 4,
      "outputs": [
        {
          "output_type": "stream",
          "name": "stdout",
          "text": [
            "Alanna Fidelis\n"
          ]
        }
      ]
    },
    {
      "cell_type": "code",
      "source": [
        "#Descobrir Tipo de variável\n",
        "type(nome)"
      ],
      "metadata": {
        "colab": {
          "base_uri": "https://localhost:8080/"
        },
        "id": "slCHL5xGC8RF",
        "outputId": "3886126d-4523-4e73-ca7b-b93d01b53645"
      },
      "execution_count": 5,
      "outputs": [
        {
          "output_type": "execute_result",
          "data": {
            "text/plain": [
              "str"
            ]
          },
          "metadata": {},
          "execution_count": 5
        }
      ]
    },
    {
      "cell_type": "code",
      "source": [
        "a  = 100\n",
        "b = 25.6\n",
        "c = a > b\n",
        "d = 'chimpanze'"
      ],
      "metadata": {
        "id": "Nd-pIi5gEKzy"
      },
      "execution_count": 6,
      "outputs": []
    },
    {
      "cell_type": "code",
      "source": [
        "type(a)"
      ],
      "metadata": {
        "colab": {
          "base_uri": "https://localhost:8080/"
        },
        "id": "broQeMzuEefh",
        "outputId": "073c3258-de17-440b-95ac-0f954f14783d"
      },
      "execution_count": 11,
      "outputs": [
        {
          "output_type": "execute_result",
          "data": {
            "text/plain": [
              "int"
            ]
          },
          "metadata": {},
          "execution_count": 11
        }
      ]
    },
    {
      "cell_type": "code",
      "source": [
        "type(b)"
      ],
      "metadata": {
        "colab": {
          "base_uri": "https://localhost:8080/"
        },
        "id": "e0HEhE2jFdxj",
        "outputId": "d923f773-f4d1-4f8b-ed3a-0626386fe174"
      },
      "execution_count": 12,
      "outputs": [
        {
          "output_type": "execute_result",
          "data": {
            "text/plain": [
              "float"
            ]
          },
          "metadata": {},
          "execution_count": 12
        }
      ]
    },
    {
      "cell_type": "code",
      "source": [
        "type(c)"
      ],
      "metadata": {
        "colab": {
          "base_uri": "https://localhost:8080/"
        },
        "id": "nJOoIf1lFi5I",
        "outputId": "40b9ab7f-05b3-40f9-a179-72a1823bf77c"
      },
      "execution_count": 13,
      "outputs": [
        {
          "output_type": "execute_result",
          "data": {
            "text/plain": [
              "bool"
            ]
          },
          "metadata": {},
          "execution_count": 13
        }
      ]
    },
    {
      "cell_type": "code",
      "source": [
        "type(d)"
      ],
      "metadata": {
        "colab": {
          "base_uri": "https://localhost:8080/"
        },
        "id": "eRXmSmcOFpfG",
        "outputId": "11b41c22-2a8d-4951-b262-a786a301213b"
      },
      "execution_count": 14,
      "outputs": [
        {
          "output_type": "execute_result",
          "data": {
            "text/plain": [
              "str"
            ]
          },
          "metadata": {},
          "execution_count": 14
        }
      ]
    },
    {
      "cell_type": "markdown",
      "source": [
        "Tipos de dados Booleanos"
      ],
      "metadata": {
        "id": "oYLyA7CuK2ry"
      }
    },
    {
      "cell_type": "code",
      "source": [
        "a = 100 < 200\n",
        "b = 85 == 6 \n",
        "c = 'pablo' == 'pablo'\n",
        "d = 25 == '25'\n",
        "e = 30 == (6*5)\n",
        "f = 'flamengo' != 'vasco'"
      ],
      "metadata": {
        "id": "L_tnvCulK9sA"
      },
      "execution_count": 24,
      "outputs": []
    },
    {
      "cell_type": "code",
      "source": [],
      "metadata": {
        "id": "xsirkv7JLZUb"
      },
      "execution_count": null,
      "outputs": []
    },
    {
      "cell_type": "code",
      "source": [
        "print(a)\n",
        "print(b)\n",
        "print(c)\n",
        "print(d)\n",
        "print(e)\n",
        "print(f)\n"
      ],
      "metadata": {
        "id": "bDtRYTWnLZz9"
      },
      "execution_count": null,
      "outputs": []
    },
    {
      "cell_type": "code",
      "source": [
        "notaAprovacao = 7.0\n",
        "notaWalison = 8.0 \n",
        "print(notaAprovacao < notaWalison)"
      ],
      "metadata": {
        "id": "1MsCjO9RMxmW"
      },
      "execution_count": null,
      "outputs": []
    },
    {
      "cell_type": "code",
      "source": [
        "if(notaWalison >= notaAprovacao):\n",
        "  print('Aprovado')\n"
      ],
      "metadata": {
        "id": "fikThN3QNzv7"
      },
      "execution_count": null,
      "outputs": []
    },
    {
      "cell_type": "code",
      "source": [
        "if(notaWalison >= notaAprovacao):\n",
        "  print('Aprovado')\n",
        "else:\n",
        "    print('Reprovado')\n",
        "    \n",
        "  "
      ],
      "metadata": {
        "id": "-INLR19MOIWa"
      },
      "execution_count": null,
      "outputs": []
    },
    {
      "cell_type": "code",
      "source": [
        "if(notaWalison >= 7.0):\n",
        "  print('Aprovado') \n",
        "elif (notaWalison >= 4 and notaWalison < 7):\n",
        "  print('Recuperação')\n",
        "else:\n",
        "  print('Reprovado')"
      ],
      "metadata": {
        "colab": {
          "base_uri": "https://localhost:8080/"
        },
        "id": "zoWLeqsSTKxo",
        "outputId": "20cfccb4-88f8-4d59-be2e-10872cbb96d2"
      },
      "execution_count": 57,
      "outputs": [
        {
          "output_type": "stream",
          "name": "stdout",
          "text": [
            "Aprovado\n"
          ]
        }
      ]
    },
    {
      "cell_type": "code",
      "source": [
        "nota1 = float(input('digite a nota,pae! '))\n",
        "nota2 = float(input('digite a segunda nota! '))\n",
        "nota3 = float(input('digite a terceira nota! '))\n",
        "media = (nota1 + nota2 + nota3)/3\n",
        "print(media)"
      ],
      "metadata": {
        "id": "HP7T2ErnWLjx"
      },
      "execution_count": null,
      "outputs": []
    },
    {
      "cell_type": "code",
      "source": [
        "if(media < 4):\n",
        "  print"
      ],
      "metadata": {
        "id": "ugnsu4TZX8aj"
      },
      "execution_count": null,
      "outputs": []
    }
  ]
}